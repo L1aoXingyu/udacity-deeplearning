{
 "cells": [
  {
   "cell_type": "markdown",
   "metadata": {
    "colab_type": "text",
    "id": "D7tqLMoKF6uq"
   },
   "source": [
    "Deep Learning\n",
    "=============\n",
    "\n",
    "Assignment 5\n",
    "------------\n",
    "\n",
    "The goal of this assignment is to train a Word2Vec skip-gram model over [Text8](http://mattmahoney.net/dc/textdata) data."
   ]
  },
  {
   "cell_type": "code",
   "execution_count": 1,
   "metadata": {
    "cellView": "both",
    "colab": {
     "autoexec": {
      "startup": false,
      "wait_interval": 0
     }
    },
    "colab_type": "code",
    "collapsed": false,
    "id": "0K1ZyLn04QZf"
   },
   "outputs": [],
   "source": [
    "# These are all the modules we'll be using later. Make sure you can import them\n",
    "# before proceeding further.\n",
    "%matplotlib inline\n",
    "from __future__ import print_function\n",
    "import collections\n",
    "import math\n",
    "import numpy as np\n",
    "import os\n",
    "import random\n",
    "import tensorflow as tf\n",
    "import zipfile\n",
    "from matplotlib import pylab\n",
    "from six.moves import range\n",
    "from six.moves.urllib.request import urlretrieve\n",
    "from sklearn.manifold import TSNE"
   ]
  },
  {
   "cell_type": "markdown",
   "metadata": {
    "colab_type": "text",
    "id": "aCjPJE944bkV"
   },
   "source": [
    "Download the data from the source website if necessary."
   ]
  },
  {
   "cell_type": "code",
   "execution_count": 2,
   "metadata": {
    "cellView": "both",
    "colab": {
     "autoexec": {
      "startup": false,
      "wait_interval": 0
     },
     "output_extras": [
      {
       "item_id": 1
      }
     ]
    },
    "colab_type": "code",
    "collapsed": false,
    "executionInfo": {
     "elapsed": 14640,
     "status": "ok",
     "timestamp": 1445964482948,
     "user": {
      "color": "#1FA15D",
      "displayName": "Vincent Vanhoucke",
      "isAnonymous": false,
      "isMe": true,
      "permissionId": "05076109866853157986",
      "photoUrl": "//lh6.googleusercontent.com/-cCJa7dTDcgQ/AAAAAAAAAAI/AAAAAAAACgw/r2EZ_8oYer4/s50-c-k-no/photo.jpg",
      "sessionId": "2f1ffade4c9f20de",
      "userId": "102167687554210253930"
     },
     "user_tz": 420
    },
    "id": "RJ-o3UBUFtCw",
    "outputId": "c4ec222c-80b5-4298-e635-93ca9f79c3b7"
   },
   "outputs": [
    {
     "name": "stdout",
     "output_type": "stream",
     "text": [
      "Found and verified text8.zip\n"
     ]
    }
   ],
   "source": [
    "url = 'http://mattmahoney.net/dc/'\n",
    "\n",
    "def maybe_download(filename, expected_bytes):\n",
    "  \"\"\"Download a file if not present, and make sure it's the right size.\"\"\"\n",
    "  if not os.path.exists(filename):\n",
    "    filename, _ = urlretrieve(url + filename, filename)\n",
    "  statinfo = os.stat(filename)\n",
    "  if statinfo.st_size == expected_bytes:\n",
    "    print('Found and verified %s' % filename)\n",
    "  else:\n",
    "    print(statinfo.st_size)\n",
    "    raise Exception(\n",
    "      'Failed to verify ' + filename + '. Can you get to it with a browser?')\n",
    "  return filename\n",
    "\n",
    "filename = maybe_download('text8.zip', 31344016)"
   ]
  },
  {
   "cell_type": "markdown",
   "metadata": {
    "colab_type": "text",
    "id": "Zqz3XiqI4mZT"
   },
   "source": [
    "Read the data into a string."
   ]
  },
  {
   "cell_type": "code",
   "execution_count": 3,
   "metadata": {
    "cellView": "both",
    "colab": {
     "autoexec": {
      "startup": false,
      "wait_interval": 0
     },
     "output_extras": [
      {
       "item_id": 1
      }
     ]
    },
    "colab_type": "code",
    "collapsed": false,
    "executionInfo": {
     "elapsed": 28844,
     "status": "ok",
     "timestamp": 1445964497165,
     "user": {
      "color": "#1FA15D",
      "displayName": "Vincent Vanhoucke",
      "isAnonymous": false,
      "isMe": true,
      "permissionId": "05076109866853157986",
      "photoUrl": "//lh6.googleusercontent.com/-cCJa7dTDcgQ/AAAAAAAAAAI/AAAAAAAACgw/r2EZ_8oYer4/s50-c-k-no/photo.jpg",
      "sessionId": "2f1ffade4c9f20de",
      "userId": "102167687554210253930"
     },
     "user_tz": 420
    },
    "id": "Mvf09fjugFU_",
    "outputId": "e3a928b4-1645-4fe8-be17-fcf47de5716d"
   },
   "outputs": [
    {
     "name": "stdout",
     "output_type": "stream",
     "text": [
      "Data size 17005207\n"
     ]
    }
   ],
   "source": [
    "def read_data(filename):\n",
    "  \"\"\"Extract the first file enclosed in a zip file as a list of words\"\"\"\n",
    "  with zipfile.ZipFile(filename) as f:\n",
    "    data = tf.compat.as_str(f.read(f.namelist()[0])).split()\n",
    "  return data\n",
    "  \n",
    "words = read_data(filename)\n",
    "print('Data size %d' % len(words))"
   ]
  },
  {
   "cell_type": "markdown",
   "metadata": {
    "colab_type": "text",
    "id": "Zdw6i4F8glpp"
   },
   "source": [
    "Build the dictionary and replace rare words with UNK token."
   ]
  },
  {
   "cell_type": "code",
   "execution_count": 4,
   "metadata": {
    "cellView": "both",
    "colab": {
     "autoexec": {
      "startup": false,
      "wait_interval": 0
     },
     "output_extras": [
      {
       "item_id": 1
      }
     ]
    },
    "colab_type": "code",
    "collapsed": false,
    "executionInfo": {
     "elapsed": 28849,
     "status": "ok",
     "timestamp": 1445964497178,
     "user": {
      "color": "#1FA15D",
      "displayName": "Vincent Vanhoucke",
      "isAnonymous": false,
      "isMe": true,
      "permissionId": "05076109866853157986",
      "photoUrl": "//lh6.googleusercontent.com/-cCJa7dTDcgQ/AAAAAAAAAAI/AAAAAAAACgw/r2EZ_8oYer4/s50-c-k-no/photo.jpg",
      "sessionId": "2f1ffade4c9f20de",
      "userId": "102167687554210253930"
     },
     "user_tz": 420
    },
    "id": "gAL1EECXeZsD",
    "outputId": "3fb4ecd1-df67-44b6-a2dc-2291730970b2"
   },
   "outputs": [
    {
     "name": "stdout",
     "output_type": "stream",
     "text": [
      "Most common words (+UNK) [['UNK', 418391], ('the', 1061396), ('of', 593677), ('and', 416629), ('one', 411764)]\n",
      "Sample data [5234, 3081, 12, 6, 195, 2, 3134, 46, 59, 156]\n"
     ]
    }
   ],
   "source": [
    "vocabulary_size = 50000\n",
    "\n",
    "def build_dataset(words):\n",
    "  count = [['UNK', -1]]\n",
    "  count.extend(collections.Counter(words).most_common(vocabulary_size - 1))\n",
    "  dictionary = dict()\n",
    "  for word, _ in count:\n",
    "    dictionary[word] = len(dictionary)\n",
    "  data = list()\n",
    "  unk_count = 0\n",
    "  for word in words:\n",
    "    if word in dictionary:\n",
    "      index = dictionary[word]\n",
    "    else:\n",
    "      index = 0  # dictionary['UNK']\n",
    "      unk_count = unk_count + 1\n",
    "    data.append(index)\n",
    "  count[0][1] = unk_count\n",
    "  reverse_dictionary = dict(zip(dictionary.values(), dictionary.keys())) \n",
    "  return data, count, dictionary, reverse_dictionary\n",
    "\n",
    "data, count, dictionary, reverse_dictionary = build_dataset(words)\n",
    "print('Most common words (+UNK)', count[:5])\n",
    "print('Sample data', data[:10])\n",
    "del words  # Hint to reduce memory."
   ]
  },
  {
   "cell_type": "markdown",
   "metadata": {
    "colab_type": "text",
    "id": "lFwoyygOmWsL"
   },
   "source": [
    "Function to generate a training batch for the skip-gram model."
   ]
  },
  {
   "cell_type": "code",
   "execution_count": 5,
   "metadata": {
    "cellView": "both",
    "colab": {
     "autoexec": {
      "startup": false,
      "wait_interval": 0
     },
     "output_extras": [
      {
       "item_id": 1
      }
     ]
    },
    "colab_type": "code",
    "collapsed": false,
    "executionInfo": {
     "elapsed": 113,
     "status": "ok",
     "timestamp": 1445964901989,
     "user": {
      "color": "#1FA15D",
      "displayName": "Vincent Vanhoucke",
      "isAnonymous": false,
      "isMe": true,
      "permissionId": "05076109866853157986",
      "photoUrl": "//lh6.googleusercontent.com/-cCJa7dTDcgQ/AAAAAAAAAAI/AAAAAAAACgw/r2EZ_8oYer4/s50-c-k-no/photo.jpg",
      "sessionId": "2f1ffade4c9f20de",
      "userId": "102167687554210253930"
     },
     "user_tz": 420
    },
    "id": "w9APjA-zmfjV",
    "outputId": "67cccb02-cdaf-4e47-d489-43bcc8d57bb8"
   },
   "outputs": [
    {
     "name": "stdout",
     "output_type": "stream",
     "text": [
      "data: ['anarchism', 'originated', 'as', 'a', 'term', 'of', 'abuse', 'first']\n",
      "\n",
      "with num_skips = 2 and skip_window = 1:\n",
      "    batch: ['originated', 'originated', 'as', 'as', 'a', 'a', 'term', 'term']\n",
      "    labels: ['anarchism', 'as', 'a', 'originated', 'term', 'as', 'of', 'a']\n",
      "\n",
      "with num_skips = 4 and skip_window = 2:\n",
      "    batch: ['as', 'as', 'as', 'as', 'a', 'a', 'a', 'a']\n",
      "    labels: ['a', 'originated', 'anarchism', 'term', 'of', 'as', 'term', 'originated']\n"
     ]
    }
   ],
   "source": [
    "data_index = 0\n",
    "\n",
    "def generate_batch(batch_size, num_skips, skip_window):\n",
    "  global data_index\n",
    "  assert batch_size % num_skips == 0\n",
    "  assert num_skips <= 2 * skip_window\n",
    "  batch = np.ndarray(shape=(batch_size), dtype=np.int32)\n",
    "  labels = np.ndarray(shape=(batch_size, 1), dtype=np.int32)\n",
    "  span = 2 * skip_window + 1 # [ skip_window target skip_window ]\n",
    "  buffer = collections.deque(maxlen=span)\n",
    "  for _ in range(span):\n",
    "    buffer.append(data[data_index])\n",
    "    data_index = (data_index + 1) % len(data)\n",
    "  for i in range(batch_size // num_skips):\n",
    "    target = skip_window  # target label at the center of the buffer\n",
    "    targets_to_avoid = [ skip_window ]\n",
    "    for j in range(num_skips):\n",
    "      while target in targets_to_avoid:\n",
    "        target = random.randint(0, span - 1)\n",
    "      targets_to_avoid.append(target)\n",
    "      batch[i * num_skips + j] = buffer[skip_window]\n",
    "      labels[i * num_skips + j, 0] = buffer[target]\n",
    "    buffer.append(data[data_index])\n",
    "    data_index = (data_index + 1) % len(data)\n",
    "  return batch, labels\n",
    "\n",
    "print('data:', [reverse_dictionary[di] for di in data[:8]])\n",
    "\n",
    "for num_skips, skip_window in [(2, 1), (4, 2)]:\n",
    "    data_index = 0\n",
    "    batch, labels = generate_batch(batch_size=8, num_skips=num_skips, skip_window=skip_window)\n",
    "    print('\\nwith num_skips = %d and skip_window = %d:' % (num_skips, skip_window))\n",
    "    print('    batch:', [reverse_dictionary[bi] for bi in batch])\n",
    "    print('    labels:', [reverse_dictionary[li] for li in labels.reshape(8)])"
   ]
  },
  {
   "cell_type": "markdown",
   "metadata": {
    "colab_type": "text",
    "id": "Ofd1MbBuwiva"
   },
   "source": [
    "Train a skip-gram model."
   ]
  },
  {
   "cell_type": "code",
   "execution_count": 6,
   "metadata": {
    "collapsed": true
   },
   "outputs": [],
   "source": [
    "tf.reset_default_graph()"
   ]
  },
  {
   "cell_type": "code",
   "execution_count": 7,
   "metadata": {
    "cellView": "both",
    "colab": {
     "autoexec": {
      "startup": false,
      "wait_interval": 0
     }
    },
    "colab_type": "code",
    "collapsed": true,
    "id": "8pQKsV4Vwlzy"
   },
   "outputs": [],
   "source": [
    "batch_size = 128\n",
    "embedding_size = 128 # Dimension of the embedding vector.\n",
    "skip_window = 1 # How many words to consider left and right.\n",
    "num_skips = 2 # How many times to reuse an input to generate a label.\n",
    "# We pick a random validation set to sample nearest neighbors. here we limit the\n",
    "# validation samples to the words that have a low numeric ID, which by\n",
    "# construction are also the most frequent. \n",
    "valid_size = 16 # Random set of words to evaluate similarity on.\n",
    "valid_window = 100 # Only pick dev samples in the head of the distribution.\n",
    "valid_examples = np.array(random.sample(range(valid_window), valid_size))\n",
    "num_sampled = 64 # Number of negative examples to sample.\n",
    "\n",
    "graph = tf.Graph()\n",
    "\n",
    "with graph.as_default():\n",
    "\n",
    "  # Input data.\n",
    "  train_dataset = tf.placeholder(tf.int32, shape=[batch_size])\n",
    "  train_labels = tf.placeholder(tf.int32, shape=[batch_size, 1])\n",
    "  valid_dataset = tf.constant(valid_examples, dtype=tf.int32)\n",
    "  \n",
    "  # Variables.\n",
    "  embeddings = tf.Variable(\n",
    "    tf.random_uniform([vocabulary_size, embedding_size], -1.0, 1.0))\n",
    "  softmax_weights = tf.Variable(\n",
    "    tf.truncated_normal([vocabulary_size, embedding_size],\n",
    "                         stddev=1.0 / math.sqrt(embedding_size)))\n",
    "  softmax_biases = tf.Variable(tf.zeros([vocabulary_size]))\n",
    "  \n",
    "  # Model.\n",
    "  # Look up embeddings for inputs.\n",
    "  embed = tf.nn.embedding_lookup(embeddings, train_dataset)\n",
    "  # Compute the softmax loss, using a sample of the negative labels each time.\n",
    "  loss = tf.reduce_mean(\n",
    "    tf.nn.sampled_softmax_loss(weights=softmax_weights, biases=softmax_biases, inputs=embed,\n",
    "                               labels=train_labels, num_sampled=num_sampled, num_classes=vocabulary_size))\n",
    "\n",
    "  # Optimizer.\n",
    "  # Note: The optimizer will optimize the softmax_weights AND the embeddings.\n",
    "  # This is because the embeddings are defined as a variable quantity and the\n",
    "  # optimizer's `minimize` method will by default modify all variable quantities \n",
    "  # that contribute to the tensor it is passed.\n",
    "  # See docs on `tf.train.Optimizer.minimize()` for more details.\n",
    "  optimizer = tf.train.AdagradOptimizer(1.0).minimize(loss)\n",
    "  \n",
    "  # Compute the similarity between minibatch examples and all embeddings.\n",
    "  # We use the cosine distance:\n",
    "  norm = tf.sqrt(tf.reduce_sum(tf.square(embeddings), 1, keep_dims=True))\n",
    "  normalized_embeddings = embeddings / norm\n",
    "  valid_embeddings = tf.nn.embedding_lookup(\n",
    "    normalized_embeddings, valid_dataset)\n",
    "  similarity = tf.matmul(valid_embeddings, tf.transpose(normalized_embeddings))"
   ]
  },
  {
   "cell_type": "code",
   "execution_count": null,
   "metadata": {
    "cellView": "both",
    "colab": {
     "autoexec": {
      "startup": false,
      "wait_interval": 0
     },
     "output_extras": [
      {
       "item_id": 23
      },
      {
       "item_id": 48
      },
      {
       "item_id": 61
      }
     ]
    },
    "colab_type": "code",
    "collapsed": false,
    "executionInfo": {
     "elapsed": 436189,
     "status": "ok",
     "timestamp": 1445965429787,
     "user": {
      "color": "#1FA15D",
      "displayName": "Vincent Vanhoucke",
      "isAnonymous": false,
      "isMe": true,
      "permissionId": "05076109866853157986",
      "photoUrl": "//lh6.googleusercontent.com/-cCJa7dTDcgQ/AAAAAAAAAAI/AAAAAAAACgw/r2EZ_8oYer4/s50-c-k-no/photo.jpg",
      "sessionId": "2f1ffade4c9f20de",
      "userId": "102167687554210253930"
     },
     "user_tz": 420
    },
    "id": "1bQFGceBxrWW",
    "outputId": "5ebd6d9a-33c6-4bcd-bf6d-252b0b6055e4"
   },
   "outputs": [
    {
     "name": "stdout",
     "output_type": "stream",
     "text": [
      "Initialized\n",
      "Average loss at step 0: 8.472012\n",
      "Nearest to five: sound, irgun, modes, bracketed, trunk, detox, equalization, einsatzgruppen,\n",
      "Nearest to world: violations, waff, origin, sof, pentafluoride, ting, indochina, darren,\n",
      "Nearest to seven: infections, delirium, curran, operations, xxiv, albania, constructions, frigates,\n",
      "Nearest to by: dimensions, centrioles, hemophilia, kusakabe, prevail, listed, sectarianism, provincia,\n",
      "Nearest to s: nextel, mahoney, carangi, grows, hyrcanus, momentarily, dilmun, stadtholder,\n",
      "Nearest to an: serra, packets, teeming, cram, breakdown, mathilde, lactic, glossary,\n",
      "Nearest to have: mohawk, claude, comcast, nijmegen, abitibi, confessed, proclaim, cricket,\n",
      "Nearest to however: sees, yao, leningrad, hamm, joachim, bernardo, relieving, aerosols,\n",
      "Nearest to which: carbonates, sidonia, diplomas, peek, historicity, facilitates, dakar, carmilla,\n",
      "Nearest to states: jewels, tirthankaras, gaulish, honolulu, publius, stores, had, susie,\n",
      "Nearest to most: caucus, mandela, nightmares, protest, attested, eva, origin, making,\n",
      "Nearest to six: negroponte, halide, pledges, resistivity, aura, sultans, prosper, additions,\n",
      "Nearest to no: trilingual, invertebrate, vite, quantitatively, amphibian, lookout, staccato, liao,\n",
      "Nearest to called: steppe, saronic, illegal, nagpur, supple, disruptive, doping, birds,\n",
      "Nearest to that: coin, latitude, generalizing, consented, desmond, origins, sweets, mycobacterium,\n",
      "Nearest to than: preamble, einsteinium, eviction, inteligencia, algonquian, kpd, discontinue, npr,\n",
      "Average loss at step 2000: 4.369523\n",
      "Average loss at step 4000: 3.861251\n",
      "Average loss at step 6000: 3.792732\n",
      "Average loss at step 8000: 3.690284\n",
      "Average loss at step 10000: 3.614302\n",
      "Nearest to five: seven, six, eight, three, four, nine, two, zero,\n",
      "Nearest to world: violations, pentafluoride, indochina, sauces, waff, altars, blob, juliana,\n",
      "Nearest to seven: six, eight, five, nine, three, four, zero, two,\n",
      "Nearest to by: was, with, as, from, suv, into, eriksson, scarab,\n",
      "Nearest to s: his, and, laurentiis, crusade, gq, jahangir, wladislaus, gyms,\n",
      "Nearest to an: mez, cram, trans, candy, the, ripple, mediocre, cretinism,\n",
      "Nearest to have: be, had, has, are, mohawk, were, analects, sanitation,\n",
      "Nearest to however: sees, paso, relieving, aerosols, yao, after, cannons, leningrad,\n",
      "Nearest to which: this, it, also, that, courtly, kits, carmilla, who,\n",
      "Nearest to states: jewels, tirthankaras, honolulu, bezier, assassinations, interceptors, tones, musicals,\n",
      "Nearest to most: caucus, kettering, origin, many, making, more, kjv, protest,\n",
      "Nearest to six: seven, eight, four, three, nine, five, zero, two,\n",
      "Nearest to no: vite, bundestag, exacting, trilingual, mage, invertebrate, staccato, santorum,\n",
      "Nearest to called: bonaparte, denotes, steppe, illegal, nagpur, meaning, designer, metallic,\n",
      "Nearest to that: allying, consented, this, configurations, which, it, though, hani,\n",
      "Nearest to than: einsteinium, sacks, radicals, vfl, intercity, nederlandse, dreadnoughts, plummer,\n",
      "Average loss at step 12000: 3.606810\n",
      "Average loss at step 14000: 3.570096\n",
      "Average loss at step 16000: 3.411064\n",
      "Average loss at step 18000: 3.457377\n",
      "Average loss at step 20000: 3.541478\n",
      "Nearest to five: four, eight, six, three, seven, two, zero, nine,\n",
      "Nearest to world: pentafluoride, year, sauces, blob, photorealistic, comet, violations, central,\n",
      "Nearest to seven: eight, six, nine, four, five, three, zero, two,\n",
      "Nearest to by: with, be, from, in, were, handy, was, glassware,\n",
      "Nearest to s: wladislaus, gyms, cog, coronary, blond, muzzle, droit, apollinaris,\n",
      "Nearest to an: mez, ripple, directories, cram, candy, kazaa, discriminant, mediocre,\n",
      "Nearest to have: had, has, be, are, were, mohawk, mean, substantiate,\n",
      "Nearest to however: but, sees, that, carloman, paso, relieving, plausibility, subgenres,\n",
      "Nearest to which: that, this, who, also, it, but, there, never,\n",
      "Nearest to states: jewels, tirthankaras, bezier, assassinations, honolulu, trough, kali, biologist,\n",
      "Nearest to most: more, many, caucus, kettering, furigana, kjv, wasted, use,\n",
      "Nearest to six: eight, four, seven, nine, five, three, zero, two,\n",
      "Nearest to no: bundestag, sportswriter, butane, chocolates, exacting, trilingual, details, newman,\n",
      "Nearest to called: bonaparte, denotes, conclusive, involves, meaning, nagpur, approx, illegal,\n",
      "Nearest to that: which, allying, what, however, but, fungus, still, this,\n",
      "Nearest to than: or, sacks, radicals, einsteinium, key, intercity, algonquian, nederlandse,\n",
      "Average loss at step 22000: 3.504128\n",
      "Average loss at step 24000: 3.488019\n",
      "Average loss at step 26000: 3.480962\n",
      "Average loss at step 28000: 3.481691\n",
      "Average loss at step 30000: 3.504099\n",
      "Nearest to five: four, eight, six, seven, three, zero, nine, two,\n",
      "Nearest to world: pentafluoride, year, blob, sauces, photorealistic, minimized, conquering, central,\n",
      "Nearest to seven: eight, six, nine, five, four, three, zero, two,\n",
      "Nearest to by: were, in, with, as, was, eriksson, under, been,\n",
      "Nearest to s: his, fram, wladislaus, annoying, ararat, disclosures, apollinaris, blond,\n",
      "Nearest to an: cram, ripple, cretinism, mediocre, mez, teeming, candy, breakdown,\n",
      "Nearest to have: had, has, were, are, be, mean, refer, substantiate,\n",
      "Nearest to however: but, although, though, sees, and, that, until, paso,\n",
      "Nearest to which: this, that, also, who, it, but, where, mahommed,\n",
      "Nearest to states: countries, jewels, assassinations, tirthankaras, bezier, tones, biologist, musicals,\n",
      "Nearest to most: many, more, caucus, some, use, origin, kjv, kaunda,\n",
      "Nearest to six: eight, four, seven, five, nine, three, zero, two,\n",
      "Nearest to no: a, bundestag, any, sportswriter, details, staccato, different, mercedes,\n",
      "Nearest to called: denotes, known, used, bonaparte, objected, involves, conclusive, meaning,\n",
      "Nearest to that: which, what, this, however, but, fungus, consented, about,\n",
      "Nearest to than: radicals, sacks, or, einsteinium, calming, key, nederlandse, much,\n",
      "Average loss at step 32000: 3.500642\n",
      "Average loss at step 34000: 3.498347\n",
      "Average loss at step 36000: 3.458811\n",
      "Average loss at step 38000: 3.297735\n",
      "Average loss at step 40000: 3.423403\n",
      "Nearest to five: seven, six, four, three, eight, two, nine, zero,\n",
      "Nearest to world: year, sauces, pentafluoride, photorealistic, altars, deccan, minimized, blob,\n",
      "Nearest to seven: eight, five, six, nine, three, four, zero, two,\n",
      "Nearest to by: gaylord, bouvier, be, handy, randolph, with, was, when,\n",
      "Nearest to s: len, his, nitrates, disclosures, playmate, killers, hyrcanus, operatives,\n",
      "Nearest to an: ripple, kraftwerk, mediocre, criticized, mez, cram, mathilde, candy,\n",
      "Nearest to have: had, has, were, are, be, mean, having, hmas,\n",
      "Nearest to however: but, although, though, that, aloud, paso, since, while,\n",
      "Nearest to which: that, this, who, also, often, actually, it, there,\n",
      "Nearest to states: countries, nations, assassinations, kingdom, jewels, recede, honolulu, powers,\n",
      "Nearest to most: more, many, some, kjv, kaunda, caucus, bookkeeping, origin,\n",
      "Nearest to six: eight, four, seven, five, nine, three, two, zero,\n",
      "Nearest to no: any, bundestag, details, mercedes, sportswriter, chocolates, publications, newman,\n",
      "Nearest to called: used, armored, known, bonaparte, meaning, vehement, conclusive, explosions,\n",
      "Nearest to that: which, what, this, configurations, where, however, archaeologist, it,\n",
      "Nearest to than: or, einsteinium, sacks, radicals, calming, key, remission, nederlandse,\n",
      "Average loss at step 42000: 3.438739\n",
      "Average loss at step 44000: 3.456157\n",
      "Average loss at step 46000: 3.449258\n",
      "Average loss at step 48000: 3.353926\n",
      "Average loss at step 50000: 3.385166\n",
      "Nearest to five: four, six, seven, eight, three, nine, zero, two,\n",
      "Nearest to world: year, civil, commentator, sauces, tireless, photorealistic, altars, blob,\n",
      "Nearest to seven: six, eight, four, nine, five, three, zero, two,\n",
      "Nearest to by: under, malthusian, with, eriksson, in, was, scarab, for,\n",
      "Nearest to s: len, his, unprovable, annoying, britannicus, hammer, bids, apollinaris,\n",
      "Nearest to an: cram, ripple, kraftwerk, trans, kazaa, cretinism, mez, mediocre,\n",
      "Nearest to have: had, has, were, be, are, having, refer, mean,\n",
      "Nearest to however: but, although, though, that, while, when, micas, aloud,\n",
      "Nearest to which: that, this, who, also, what, often, typically, there,\n",
      "Nearest to states: kingdom, countries, nations, assassinations, jewels, premieres, hayden, tirthankaras,\n",
      "Nearest to most: more, many, some, origin, kjv, less, several, isolates,\n",
      "Nearest to six: eight, seven, four, nine, three, five, two, zero,\n",
      "Nearest to no: any, newman, somewhat, details, exacting, butane, bundestag, foes,\n",
      "Nearest to called: armored, neoliberalism, used, known, tame, named, referred, objected,\n",
      "Nearest to that: which, however, configurations, what, but, consented, ama, hunters,\n",
      "Nearest to than: or, calming, sacks, much, einsteinium, rosenthal, key, radicals,\n",
      "Average loss at step 52000: 3.436360\n",
      "Average loss at step 54000: 3.426319\n",
      "Average loss at step 56000: 3.436591\n",
      "Average loss at step 58000: 3.392669\n",
      "Average loss at step 60000: 3.399051\n",
      "Nearest to five: six, four, eight, three, seven, nine, zero, two,\n",
      "Nearest to world: years, minimized, civil, year, altars, tireless, atypical, entering,\n",
      "Nearest to seven: eight, six, nine, five, four, three, zero, two,\n",
      "Nearest to by: without, through, eriksson, under, with, from, pentecostal, donates,\n",
      "Nearest to s: britannicus, wladislaus, jahangir, schematic, corsair, apollinaris, annoying, doric,\n",
      "Nearest to an: ripple, kraftwerk, cram, criticized, kazaa, cretinism, mediocre, trans,\n",
      "Nearest to have: had, has, were, are, having, be, include, require,\n",
      "Nearest to however: but, although, though, that, which, when, since, while,\n",
      "Nearest to which: that, this, what, who, however, it, also, typically,\n",
      "Nearest to states: countries, nations, kingdom, assassinations, gab, counterfactual, premieres, jewels,\n",
      "Nearest to most: more, many, some, use, origin, less, eleventh, kaunda,\n",
      "Nearest to six: eight, five, four, seven, nine, three, two, zero,\n",
      "Nearest to no: any, somewhat, details, little, harmonics, butane, bundestag, foes,\n",
      "Nearest to called: used, named, armored, considered, referred, known, fate, neoliberalism,\n",
      "Nearest to that: which, what, however, this, ama, it, still, where,\n",
      "Nearest to than: or, much, and, but, calming, sacks, einsteinium, rank,\n",
      "Average loss at step 62000: 3.243463\n",
      "Average loss at step 64000: 3.250375\n",
      "Average loss at step 66000: 3.406499\n",
      "Average loss at step 68000: 3.398899\n",
      "Average loss at step 70000: 3.363879\n",
      "Nearest to five: six, four, three, eight, seven, nine, zero, two,\n",
      "Nearest to world: year, altars, tireless, deccan, senussi, minimized, atypical, commentator,\n",
      "Nearest to seven: six, eight, nine, four, five, three, two, zero,\n",
      "Nearest to by: donates, in, scarab, through, be, trolls, without, randolph,\n",
      "Nearest to s: wladislaus, britannicus, hydrolysis, corsair, len, unprovable, grows, revulsion,\n",
      "Nearest to an: ripple, cram, kraftwerk, nicola, the, snopes, mediocre, ruinous,\n",
      "Nearest to have: had, has, were, are, be, include, require, provide,\n",
      "Nearest to however: but, although, though, that, while, where, when, which,\n",
      "Nearest to which: that, this, what, but, also, however, who, still,\n",
      "Nearest to states: nations, kingdom, countries, state, hayden, counterfactual, healy, gab,\n",
      "Nearest to most: more, less, many, some, use, highly, eleventh, several,\n",
      "Nearest to six: eight, seven, nine, five, four, three, two, zero,\n",
      "Nearest to no: any, little, somewhat, details, mercedes, valid, mage, butane,\n",
      "Nearest to called: named, armored, referred, vehement, used, known, word, considered,\n",
      "Nearest to that: which, however, what, this, but, still, ama, also,\n",
      "Nearest to than: or, and, but, much, calming, symbolising, sacks, rounded,\n",
      "Average loss at step 72000: 3.372694\n",
      "Average loss at step 74000: 3.349334\n",
      "Average loss at step 76000: 3.317089\n",
      "Average loss at step 78000: 3.349157\n",
      "Average loss at step 80000: 3.381943\n",
      "Nearest to five: six, four, seven, eight, three, nine, zero, two,\n",
      "Nearest to world: tireless, salic, altars, lagos, senussi, commentator, year, deccan,\n",
      "Nearest to seven: six, five, eight, four, nine, three, zero, two,\n",
      "Nearest to by: through, without, soliloquy, igf, with, iodide, was, under,\n",
      "Nearest to s: ailments, wladislaus, unprovable, apollinaris, maleficarum, tandy, kristen, fram,\n",
      "Nearest to an: ripple, mediocre, cram, kraftwerk, breakdown, mineralogical, ruinous, rabelais,\n",
      "Nearest to have: had, has, were, be, are, include, having, refer,\n",
      "Nearest to however: although, but, that, though, while, where, fact, when,\n",
      "Nearest to which: that, this, also, usually, what, who, based, actually,\n",
      "Nearest to states: nations, kingdom, countries, state, counterfactual, union, assassinations, us,\n",
      "Nearest to most: more, some, many, less, use, patience, retrieve, eleventh,\n",
      "Nearest to six: four, five, eight, seven, three, nine, two, zero,\n",
      "Nearest to no: little, any, iterate, aisha, morale, details, she, harmonics,\n",
      "Nearest to called: referred, named, known, used, armored, considered, snes, vehement,\n",
      "Nearest to that: which, however, this, what, archaeologist, consented, hunters, where,\n",
      "Nearest to than: or, much, sacks, but, rounded, biscuit, llywelyn, quarrying,\n",
      "Average loss at step 82000: 3.405334\n",
      "Average loss at step 84000: 3.413244\n",
      "Average loss at step 86000: 3.386499\n",
      "Average loss at step 88000: 3.351820\n",
      "Average loss at step 90000: 3.363187\n",
      "Nearest to five: seven, four, eight, three, six, nine, two, zero,\n",
      "Nearest to world: tireless, salic, senussi, craftsman, puebla, isp, largest, lagos,\n",
      "Nearest to seven: eight, five, six, nine, four, three, zero, one,\n",
      "Nearest to by: without, through, scarab, with, under, including, eriksson, from,\n",
      "Nearest to s: whose, britannicus, his, unprovable, our, mutton, swordsman, wladislaus,\n",
      "Nearest to an: kraftwerk, ripple, ruinous, snopes, mediocre, the, cram, feininger,\n",
      "Nearest to have: had, has, were, are, be, include, require, refer,\n",
      "Nearest to however: but, although, though, that, since, while, micas, especially,\n",
      "Nearest to which: that, what, this, usually, also, often, typically, who,\n",
      "Nearest to states: nations, kingdom, countries, state, us, union, hayden, centurion,\n",
      "Nearest to most: more, some, eleventh, less, many, use, retrieve, several,\n",
      "Nearest to six: eight, seven, four, nine, five, three, zero, two,\n",
      "Nearest to no: little, any, aisha, details, nothing, only, butane, mercedes,\n",
      "Nearest to called: referred, named, used, known, vehement, considered, spade, snes,\n",
      "Nearest to that: which, however, what, usbc, bayonne, generally, because, growths,\n",
      "Nearest to than: much, sacks, or, somewhat, symbolising, erasable, no, bystander,\n",
      "Average loss at step 92000: 3.400638\n",
      "Average loss at step 94000: 3.253835\n",
      "Average loss at step 96000: 3.357645\n",
      "Average loss at step 98000: 3.240684\n",
      "Average loss at step 100000: 3.358922\n",
      "Nearest to five: seven, four, eight, six, three, nine, two, zero,\n",
      "Nearest to world: tireless, country, largest, year, salic, craftsman, averaging, vietnam,\n",
      "Nearest to seven: eight, six, nine, five, four, three, zero, two,\n",
      "Nearest to by: without, including, gaylord, through, under, when, glasnost, randolph,\n",
      "Nearest to s: his, rep, hydrolysis, my, our, britannicus, isbn, whose,\n",
      "Nearest to an: kraftwerk, ripple, cram, kazaa, mediocre, ramp, teeming, another,\n",
      "Nearest to have: had, has, are, were, be, having, include, refer,\n",
      "Nearest to however: but, although, that, though, while, especially, micas, and,\n",
      "Nearest to which: that, this, usually, typically, actually, what, who, but,\n",
      "Nearest to states: nations, kingdom, countries, us, state, counterfactual, flo, union,\n",
      "Nearest to most: more, less, eleventh, some, many, kermit, highly, particularly,\n",
      "Nearest to six: seven, eight, four, nine, five, three, two, zero,\n",
      "Nearest to no: little, any, details, aisha, harmonics, mercedes, only, nothing,\n",
      "Nearest to called: referred, named, vehement, used, armored, known, extermination, snes,\n",
      "Nearest to that: which, however, what, growths, actually, archaeologist, because, who,\n",
      "Nearest to than: or, much, and, colt, fatou, einsteinium, sacks, way,\n"
     ]
    }
   ],
   "source": [
    "num_steps = 100001\n",
    "\n",
    "with tf.Session(graph=graph) as session:\n",
    "  tf.global_variables_initializer().run()\n",
    "  print('Initialized')\n",
    "  average_loss = 0\n",
    "  for step in range(num_steps):\n",
    "    batch_data, batch_labels = generate_batch(\n",
    "      batch_size, num_skips, skip_window)\n",
    "    feed_dict = {train_dataset : batch_data, train_labels : batch_labels}\n",
    "    _, l = session.run([optimizer, loss], feed_dict=feed_dict)\n",
    "    average_loss += l\n",
    "    if step % 2000 == 0:\n",
    "      if step > 0:\n",
    "        average_loss = average_loss / 2000\n",
    "      # The average loss is an estimate of the loss over the last 2000 batches.\n",
    "      print('Average loss at step %d: %f' % (step, average_loss))\n",
    "      average_loss = 0\n",
    "    # note that this is expensive (~20% slowdown if computed every 500 steps)\n",
    "    if step % 10000 == 0:\n",
    "      sim = similarity.eval()\n",
    "      for i in range(valid_size):\n",
    "        valid_word = reverse_dictionary[valid_examples[i]]\n",
    "        top_k = 8 # number of nearest neighbors\n",
    "        nearest = (-sim[i, :]).argsort()[1:top_k+1]\n",
    "        log = 'Nearest to %s:' % valid_word\n",
    "        for k in range(top_k):\n",
    "          close_word = reverse_dictionary[nearest[k]]\n",
    "          log = '%s %s,' % (log, close_word)\n",
    "        print(log)\n",
    "  final_embeddings = normalized_embeddings.eval()"
   ]
  },
  {
   "cell_type": "code",
   "execution_count": null,
   "metadata": {
    "cellView": "both",
    "colab": {
     "autoexec": {
      "startup": false,
      "wait_interval": 0
     }
    },
    "colab_type": "code",
    "collapsed": false,
    "id": "jjJXYA_XzV79"
   },
   "outputs": [],
   "source": [
    "num_points = 400\n",
    "\n",
    "tsne = TSNE(perplexity=30, n_components=2, init='pca', n_iter=5000)\n",
    "two_d_embeddings = tsne.fit_transform(final_embeddings[1:num_points+1, :])"
   ]
  },
  {
   "cell_type": "code",
   "execution_count": null,
   "metadata": {
    "cellView": "both",
    "colab": {
     "autoexec": {
      "startup": false,
      "wait_interval": 0
     },
     "output_extras": [
      {
       "item_id": 1
      }
     ]
    },
    "colab_type": "code",
    "collapsed": false,
    "executionInfo": {
     "elapsed": 4763,
     "status": "ok",
     "timestamp": 1445965465525,
     "user": {
      "color": "#1FA15D",
      "displayName": "Vincent Vanhoucke",
      "isAnonymous": false,
      "isMe": true,
      "permissionId": "05076109866853157986",
      "photoUrl": "//lh6.googleusercontent.com/-cCJa7dTDcgQ/AAAAAAAAAAI/AAAAAAAACgw/r2EZ_8oYer4/s50-c-k-no/photo.jpg",
      "sessionId": "2f1ffade4c9f20de",
      "userId": "102167687554210253930"
     },
     "user_tz": 420
    },
    "id": "o_e0D_UezcDe",
    "outputId": "df22e4a5-e8ec-4e5e-d384-c6cf37c68c34"
   },
   "outputs": [],
   "source": [
    "def plot(embeddings, labels):\n",
    "  assert embeddings.shape[0] >= len(labels), 'More labels than embeddings'\n",
    "  pylab.figure(figsize=(15,15))  # in inches\n",
    "  for i, label in enumerate(labels):\n",
    "    x, y = embeddings[i,:]\n",
    "    pylab.scatter(x, y)\n",
    "    pylab.annotate(label, xy=(x, y), xytext=(5, 2), textcoords='offset points',\n",
    "                   ha='right', va='bottom')\n",
    "  pylab.show()\n",
    "\n",
    "words = [reverse_dictionary[i] for i in range(1, num_points+1)]\n",
    "plot(two_d_embeddings, words)"
   ]
  },
  {
   "cell_type": "markdown",
   "metadata": {
    "colab_type": "text",
    "id": "QB5EFrBnpNnc"
   },
   "source": [
    "---\n",
    "\n",
    "Problem\n",
    "-------\n",
    "\n",
    "An alternative to skip-gram is another Word2Vec model called [CBOW](http://arxiv.org/abs/1301.3781) (Continuous Bag of Words). In the CBOW model, instead of predicting a context word from a word vector, you predict a word from the sum of all the word vectors in its context. Implement and evaluate a CBOW model trained on the text8 dataset.\n",
    "\n",
    "---"
   ]
  },
  {
   "cell_type": "code",
   "execution_count": 91,
   "metadata": {
    "collapsed": true
   },
   "outputs": [],
   "source": [
    "data_index = 0"
   ]
  },
  {
   "cell_type": "code",
   "execution_count": 92,
   "metadata": {
    "collapsed": true
   },
   "outputs": [],
   "source": [
    "def generate_batch(batch_size, num_skips, skip_window):\n",
    "    global data_index\n",
    "    assert batch_size % num_skips == 0\n",
    "    assert num_skips <= 2 * skip_window\n",
    "    batch = np.ndarray(shape=[batch_size, 2 * skip_window], dtype=np.int32)\n",
    "    labels = np.ndarray(shape=[batch_size, 1], dtype=np.int32)\n",
    "    span = 2 * skip_window + 1\n",
    "    buffer = collections.deque(maxlen=span)\n",
    "    for _ in range(span):\n",
    "        buffer.append(data[data_index])\n",
    "        data_index = (data_index + 1) % len(data)\n",
    "    for i in range(batch_size // num_skips):\n",
    "        target = skip_window\n",
    "        targets_to_avoid = []\n",
    "        for j in range(num_skips):\n",
    "            while target in targets_to_avoid:\n",
    "                target = random.randint(0, span-1)\n",
    "            targets_to_avoid.append(target)\n",
    "            batch_idx = list(range(span))[:target] + list(range(span))[target+1:]\n",
    "            for k in range(len(batch_idx)):\n",
    "                batch[i * num_skips + j, k] = buffer[batch_idx[k]]\n",
    "            labels[i * num_skips + j, 0] = buffer[target]\n",
    "        buffer.append(data[data_index])\n",
    "        data_index = (data_index + 1) % len(data)\n",
    "    return batch, labels"
   ]
  },
  {
   "cell_type": "code",
   "execution_count": 94,
   "metadata": {
    "collapsed": false,
    "scrolled": true
   },
   "outputs": [
    {
     "name": "stdout",
     "output_type": "stream",
     "text": [
      "\n",
      "with num_skips = 2 and skip_window = 1:\n",
      "    batch: [['anarchism', 'as'], ['anarchism', 'originated'], ['originated', 'a'], ['as', 'a'], ['as', 'term'], ['as', 'a'], ['a', 'of'], ['a', 'term']]\n",
      "    labels: ['originated', 'as', 'as', 'originated', 'a', 'term', 'term', 'of']\n",
      "\n",
      "with num_skips = 4 and skip_window = 2:\n",
      "    batch: [['anarchism', 'originated', 'a', 'term'], ['originated', 'as', 'a', 'term'], ['anarchism', 'originated', 'as', 'term'], ['anarchism', 'originated', 'as', 'a'], ['originated', 'as', 'term', 'of'], ['originated', 'as', 'a', 'of'], ['originated', 'as', 'a', 'term'], ['originated', 'a', 'term', 'of']]\n",
      "    labels: ['as', 'anarchism', 'a', 'term', 'a', 'term', 'of', 'as']\n"
     ]
    }
   ],
   "source": [
    "for num_skips, skip_window in [(2, 1), (4, 2)]:\n",
    "    data_index = 0\n",
    "    batch, labels = generate_batch(batch_size=8, num_skips=num_skips, skip_window=skip_window)\n",
    "    print('\\nwith num_skips = %d and skip_window = %d:' % (num_skips, skip_window))\n",
    "    print('    batch:', [[reverse_dictionary[bi] for bi in batch[ki, :]] for ki in range(batch.shape[0])])\n",
    "    print('    labels:', [reverse_dictionary[li] for li in labels.reshape(8)])"
   ]
  },
  {
   "cell_type": "code",
   "execution_count": 128,
   "metadata": {
    "collapsed": true
   },
   "outputs": [],
   "source": [
    "tf.reset_default_graph()"
   ]
  },
  {
   "cell_type": "code",
   "execution_count": 129,
   "metadata": {
    "collapsed": false
   },
   "outputs": [],
   "source": [
    "batch_size = 128\n",
    "embed_dim = 512\n",
    "num_skips = 2\n",
    "skip_window = 2\n",
    "num_sampled = 64\n",
    "valid_size = 16 # Random set of words to evaluate similarity on.\n",
    "valid_window = 100 # Only pick dev samples in the head of the distribution.\n",
    "valid_examples = np.array(random.sample(range(valid_window), valid_size))\n",
    "\n",
    "with tf.name_scope('input'):\n",
    "    train_data = tf.placeholder(tf.int32, shape=[None, 2 * skip_window], name='context')\n",
    "    train_label = tf.placeholder(tf.int32, shape=[None, 1], name='label')\n",
    "    valid_dataset = tf.constant(valid_examples, tf.int32, name='valid_data')\n",
    "    \n",
    "with tf.name_scope('word_embedding'):\n",
    "    word_embed = tf.Variable(tf.random_uniform([vocabulary_size, embed_dim], -1, 1))\n",
    "    embed = tf.nn.embedding_lookup(word_embed, train_data)\n",
    "\n",
    "with tf.variable_scope('projection'):\n",
    "    w1 = tf.get_variable('proj1', [embed_dim, embed_dim], initializer=tf.truncated_normal_initializer(\n",
    "            stddev=1.0 / math.sqrt(embed_dim)))\n",
    "    w2 = tf.get_variable('proj2', [embed_dim, embed_dim], initializer=tf.truncated_normal_initializer(\n",
    "            stddev=1.0 / math.sqrt(embed_dim)))\n",
    "    w3 = tf.get_variable('proj3', [embed_dim, embed_dim], initializer=tf.truncated_normal_initializer(\n",
    "            stddev=1.0 / math.sqrt(embed_dim)))\n",
    "    w4 = tf.get_variable('proj4', [embed_dim, embed_dim], initializer=tf.truncated_normal_initializer(\n",
    "            stddev=1.0 / math.sqrt(embed_dim)))\n",
    "\n",
    "with tf.name_scope('model'):\n",
    "    p1 = tf.matmul(embed[:, 0], w1)\n",
    "    p2 = tf.matmul(embed[:, 1], w2)\n",
    "    p3 = tf.matmul(embed[:, 2], w3)\n",
    "    p4 = tf.matmul(embed[:, 3], w4)\n",
    "    p_sum = p1 + p2 + p3 + p4\n",
    "\n",
    "with tf.name_scope('loss'):\n",
    "    softmax_weight = tf.Variable(tf.truncated_normal([vocabulary_size, embed_dim],\n",
    "                                 stddev=1.0 / math.sqrt(embed_dim)))\n",
    "    softmax_bias = tf.Variable(tf.zeros([vocabulary_size]))\n",
    "    loss = tf.reduce_mean(\n",
    "        tf.nn.sampled_softmax_loss(weights=softmax_weight, biases=softmax_bias, inputs=p_sum,\n",
    "                               labels=train_label, num_sampled=num_sampled, num_classes=vocabulary_size))\n",
    "\n",
    "with tf.name_scope('optimizer'):\n",
    "    optimizer = tf.train.AdagradOptimizer(1.0).minimize(loss)\n",
    "    \n",
    "with tf.name_scope('similarity'):\n",
    "    norm = tf.sqrt(tf.reduce_sum(tf.square(word_embed), 1, keep_dims=True))\n",
    "    normalized_embeddings = word_embed / norm\n",
    "    valid_embeddings = tf.nn.embedding_lookup(normalized_embeddings, valid_dataset)\n",
    "    similarity = tf.matmul(valid_embeddings, tf.transpose(normalized_embeddings))"
   ]
  },
  {
   "cell_type": "code",
   "execution_count": 130,
   "metadata": {
    "collapsed": false
   },
   "outputs": [
    {
     "name": "stdout",
     "output_type": "stream",
     "text": [
      "Loss: 2028.2289\n",
      "Loss: 893.9122\n",
      "Loss: 655.1231\n",
      "Loss: 484.0254\n",
      "Loss: 432.3917\n",
      "Nearest to so: aristides, arches, palahniuk, touma, show, rockville, inherited, persecutions,\n",
      "Nearest to one: two, btu, antonov, eight, joules, zero, three, nine,\n",
      "Nearest to not: childbirth, successive, filament, willingly, abundances, been, figure, stresses,\n",
      "Nearest to his: the, their, its, s, this, rimmed, fingerprinting, cyclist,\n",
      "Nearest to is: are, was, were, became, as, has, of, crucifixes,\n",
      "Nearest to no: decades, undergoes, televised, hark, adages, pessoa, tu, batter,\n",
      "Nearest to which: nouveau, bassist, occam, precautions, baiting, meritorious, heterotic, who,\n",
      "Nearest to than: amaziah, geckos, nucleon, type, taro, js, streets, opiates,\n",
      "Nearest to are: is, were, was, have, be, miletus, islamists, has,\n",
      "Nearest to only: correspondence, retention, morisot, printings, gently, concern, loss, inductee,\n",
      "Nearest to during: meandering, un, mothers, from, slug, nonverbal, hometown, magnification,\n",
      "Nearest to however: shire, icarus, mycenae, roughly, manet, endorsement, jr, incoming,\n",
      "Nearest to states: kingdom, interests, arriving, what, crtc, treaties, apologetics, assumed,\n",
      "Nearest to from: in, of, sterilization, over, on, fevers, attainable, kinetoscope,\n",
      "Nearest to war: anhui, cappadocia, ruiz, mulcahy, devoured, wold, framed, poisonous,\n",
      "Nearest to over: from, lift, afternoon, beagle, demos, yeasts, vividly, harboring,\n",
      "Loss: 374.8396\n",
      "Loss: 325.8256\n",
      "Loss: 281.6220\n",
      "Loss: 257.1000\n",
      "Loss: 230.2468\n",
      "Nearest to so: is, the, it, judah, diana, photolithography, tubing, ofdm,\n",
      "Nearest to one: seven, two, nine, UNK, eight, zero, four, three,\n",
      "Nearest to not: oc, it, appropriately, suit, versailles, that, be, ic,\n",
      "Nearest to his: the, a, its, their, this, bankruptcies, falwell, lughnasadh,\n",
      "Nearest to is: are, was, were, has, as, so, be, but,\n",
      "Nearest to no: a, memos, phosphorus, decades, born, only, salaam, tillich,\n",
      "Nearest to which: it, that, this, he, mechanically, huang, also, shivaji,\n",
      "Nearest to than: ike, hounds, vegeta, with, but, nominally, ler, gamers,\n",
      "Nearest to are: is, were, was, have, has, be, as, had,\n",
      "Nearest to only: erlbaum, sufficed, prosecute, pairwise, acculturation, archetypes, ecclesiastics, anglicans,\n",
      "Nearest to during: despite, in, rollout, robotics, after, mcfarland, stiffer, symphonies,\n",
      "Nearest to however: in, hogshead, brzezinski, as, grazed, wap, offender, schulz,\n",
      "Nearest to states: kingdom, neighborhoods, directions, assembled, apologetics, interpreted, midwestern, thaler,\n",
      "Nearest to from: in, between, revising, into, manning, on, through, and,\n",
      "Nearest to war: time, cup, squeeze, steele, quartets, irredentist, citeaux, atlanta,\n",
      "Nearest to over: milder, out, after, mapmaking, roaming, again, gehenna, dystopia,\n",
      "Loss: 180.6014\n",
      "Loss: 185.5749\n",
      "Loss: 169.3286\n",
      "Loss: 154.4817\n",
      "Loss: 150.9583\n",
      "Nearest to so: is, tick, be, was, halfdan, hen, then, zimmermann,\n",
      "Nearest to one: two, zero, nine, six, seven, four, five, three,\n",
      "Nearest to not: that, be, they, he, have, it, still, what,\n",
      "Nearest to his: their, the, its, s, he, her, a, one,\n",
      "Nearest to is: was, are, were, has, be, being, been, so,\n",
      "Nearest to no: some, a, an, three, adages, shingles, progressively, valor,\n",
      "Nearest to which: he, this, it, virtue, that, always, they, one,\n",
      "Nearest to than: is, much, neptune, js, hanford, superjanet, it, invertebrates,\n",
      "Nearest to are: were, is, be, was, have, being, with, two,\n",
      "Nearest to only: motels, antikythera, resurrect, who, oxidize, which, burgh, eindhoven,\n",
      "Nearest to during: in, of, despite, after, ayres, harrington, and, sculptors,\n",
      "Nearest to however: since, ing, ptr, for, bruxelles, rude, over, in,\n",
      "Nearest to states: kingdom, heenan, nations, attribute, ramjet, conquered, war, society,\n",
      "Nearest to from: in, on, into, through, since, by, and, shunning,\n",
      "Nearest to war: quartets, answerable, insurrections, squeeze, hercule, arsenic, states, newport,\n",
      "Nearest to over: kenji, milder, through, when, douglass, about, ptr, however,\n",
      "Loss: 132.6846\n",
      "Loss: 128.3508\n",
      "Loss: 120.5075\n",
      "Loss: 114.2472\n",
      "Loss: 109.2797\n",
      "Nearest to so: is, it, be, are, but, if, then, intermarried,\n",
      "Nearest to one: two, six, three, eight, zero, seven, four, nine,\n",
      "Nearest to not: they, he, be, more, what, a, some, that,\n",
      "Nearest to his: the, its, their, her, s, a, he, this,\n",
      "Nearest to is: was, are, has, being, were, be, form, but,\n",
      "Nearest to no: a, this, the, one, an, much, two, their,\n",
      "Nearest to which: it, he, this, a, who, also, the, they,\n",
      "Nearest to than: much, or, but, years, swings, repetitive, is, yorke,\n",
      "Nearest to are: is, were, was, be, have, being, most, by,\n",
      "Nearest to only: one, it, three, no, beforehand, sufficed, i, all,\n",
      "Nearest to during: in, from, before, after, at, for, of, war,\n",
      "Nearest to however: and, but, for, this, it, ing, limewire, musica,\n",
      "Nearest to states: kingdom, paso, five, nations, city, normalised, natives, economy,\n",
      "Nearest to from: in, into, of, at, during, by, through, and,\n",
      "Nearest to war: military, during, rule, hercule, appreciating, kimchi, man, squeeze,\n",
      "Nearest to over: in, milder, at, hostages, into, on, through, rms,\n",
      "Loss: 106.0513\n",
      "Loss: 94.6996\n",
      "Loss: 86.4001\n",
      "Loss: 83.5641\n",
      "Loss: 83.7256\n",
      "Nearest to so: but, it, if, not, is, be, although, irina,\n",
      "Nearest to one: two, five, zero, four, eight, nine, six, three,\n",
      "Nearest to not: they, some, it, more, will, to, would, been,\n",
      "Nearest to his: the, its, their, s, her, a, he, an,\n",
      "Nearest to is: was, are, were, had, be, has, as, being,\n",
      "Nearest to no: the, a, an, much, some, little, not, another,\n",
      "Nearest to which: it, this, he, that, these, the, also, who,\n",
      "Nearest to than: but, much, is, very, for, are, and, evokes,\n",
      "Nearest to are: is, were, was, be, have, as, had, been,\n",
      "Nearest to only: it, not, also, that, some, a, however, but,\n",
      "Nearest to during: in, after, at, and, before, of, for, against,\n",
      "Nearest to however: and, in, that, made, which, there, also, only,\n",
      "Nearest to states: kingdom, nations, zero, state, countries, government, five, normalised,\n",
      "Nearest to from: in, into, through, on, by, after, around, of,\n",
      "Nearest to war: zero, quartets, law, squeeze, period, army, political, man,\n",
      "Nearest to over: in, into, on, through, with, both, from, up,\n",
      "Loss: 75.0990\n",
      "Loss: 76.9184\n",
      "Loss: 69.7334\n",
      "Loss: 69.9331\n",
      "Loss: 68.1667\n",
      "Nearest to so: is, be, which, not, as, if, it, but,\n",
      "Nearest to one: two, zero, four, nine, five, seven, six, the,\n",
      "Nearest to not: they, been, that, most, so, he, only, will,\n",
      "Nearest to his: their, her, its, the, s, a, he, who,\n",
      "Nearest to is: was, are, has, be, were, as, been, being,\n",
      "Nearest to no: a, some, an, much, not, the, only, this,\n",
      "Nearest to which: it, he, that, also, this, what, they, who,\n",
      "Nearest to than: much, but, is, times, years, no, scale, antonov,\n",
      "Nearest to are: were, is, be, have, was, being, been, by,\n",
      "Nearest to only: not, they, these, also, this, no, as, it,\n",
      "Nearest to during: in, against, after, before, by, under, but, was,\n",
      "Nearest to however: in, of, but, and, where, made, used, there,\n",
      "Nearest to states: kingdom, nations, government, relations, state, the, city, six,\n",
      "Nearest to from: into, in, on, within, through, and, up, across,\n",
      "Nearest to war: squeeze, political, wars, government, he, law, us, rule,\n",
      "Nearest to over: in, two, from, into, on, both, of, against,\n",
      "Loss: 64.7650\n",
      "Loss: 62.4386\n",
      "Loss: 59.4152\n",
      "Loss: 53.1276\n",
      "Loss: 50.9697\n",
      "Nearest to so: is, it, as, be, not, if, which, one,\n",
      "Nearest to one: two, six, five, zero, three, seven, nine, the,\n",
      "Nearest to not: they, been, some, most, be, it, still, often,\n",
      "Nearest to his: their, the, its, her, s, a, he, this,\n",
      "Nearest to is: was, are, has, were, be, been, being, had,\n",
      "Nearest to no: a, the, any, this, little, not, only, much,\n",
      "Nearest to which: it, that, he, they, this, who, also, some,\n",
      "Nearest to than: much, but, over, is, and, no, impact, zero,\n",
      "Nearest to are: were, is, be, have, was, being, been, and,\n",
      "Nearest to only: not, all, it, six, zero, these, no, two,\n",
      "Nearest to during: in, after, on, under, between, at, through, from,\n",
      "Nearest to however: but, there, it, and, that, in, have, who,\n",
      "Nearest to states: kingdom, nations, time, government, age, countries, six, five,\n",
      "Nearest to from: in, into, and, on, through, of, by, within,\n",
      "Nearest to war: world, squeeze, wars, during, kimchi, rule, western, age,\n",
      "Nearest to over: two, into, after, in, on, around, from, during,\n",
      "Loss: 54.3299\n",
      "Loss: 51.9635\n",
      "Loss: 51.3678\n",
      "Loss: 47.9749\n",
      "Loss: 48.0894\n",
      "Nearest to so: it, is, up, and, more, have, as, zero,\n",
      "Nearest to one: two, five, six, nine, three, seven, zero, four,\n",
      "Nearest to not: they, it, more, been, but, we, be, do,\n",
      "Nearest to his: her, its, their, the, s, a, this, an,\n",
      "Nearest to is: are, was, has, were, as, be, been, became,\n",
      "Nearest to no: a, the, any, an, this, its, one, another,\n",
      "Nearest to which: it, that, this, also, he, they, the, one,\n",
      "Nearest to than: much, but, and, over, for, so, even, no,\n",
      "Nearest to are: were, is, have, be, was, as, and, been,\n",
      "Nearest to only: it, all, also, five, six, they, that, not,\n",
      "Nearest to during: in, over, from, after, on, under, before, at,\n",
      "Nearest to however: but, and, there, that, it, one, though, or,\n",
      "Nearest to states: kingdom, nations, state, time, countries, government, age, u,\n",
      "Nearest to from: in, into, on, of, during, and, through, by,\n",
      "Nearest to war: government, rule, period, western, squeeze, empire, people, battle,\n",
      "Nearest to over: during, in, into, from, and, of, on, for,\n",
      "Loss: 44.1210\n",
      "Loss: 43.6205\n",
      "Loss: 45.0008\n",
      "Loss: 43.6361\n",
      "Loss: 41.3043\n",
      "Nearest to so: it, is, however, up, not, be, but, as,\n",
      "Nearest to one: two, six, four, eight, three, zero, nine, seven,\n",
      "Nearest to not: they, it, been, still, more, he, be, we,\n",
      "Nearest to his: their, her, the, its, s, a, this, my,\n",
      "Nearest to is: was, are, were, has, as, be, being, had,\n",
      "Nearest to no: a, the, this, any, its, an, not, another,\n",
      "Nearest to which: it, he, that, this, they, also, the, what,\n",
      "Nearest to than: much, but, over, even, quality, for, is, far,\n",
      "Nearest to are: were, is, have, be, was, as, being, been,\n",
      "Nearest to only: this, four, a, that, they, the, also, or,\n",
      "Nearest to during: in, over, from, after, of, before, at, since,\n",
      "Nearest to however: but, and, as, one, though, in, so, has,\n",
      "Nearest to states: kingdom, nations, state, time, europe, the, one, six,\n",
      "Nearest to from: in, into, on, by, as, during, of, through,\n",
      "Nearest to war: during, period, government, after, army, wars, germany, rule,\n",
      "Nearest to over: during, in, on, from, into, two, up, of,\n",
      "Loss: 51.0155\n",
      "Loss: 42.5572\n",
      "Loss: 42.0502\n",
      "Loss: 38.9138\n",
      "Loss: 37.0332\n",
      "Nearest to so: it, not, is, are, have, be, but, then,\n",
      "Nearest to one: two, six, three, seven, eight, five, zero, four,\n",
      "Nearest to not: they, it, be, we, been, you, more, so,\n",
      "Nearest to his: their, her, its, s, the, a, he, my,\n",
      "Nearest to is: was, are, has, were, be, as, being, had,\n",
      "Nearest to no: any, a, its, the, another, this, their, an,\n",
      "Nearest to which: it, that, they, he, this, also, what, the,\n",
      "Nearest to than: but, much, and, is, for, over, even, in,\n",
      "Nearest to are: were, have, is, be, was, being, had, has,\n",
      "Nearest to only: that, also, all, they, it, this, three, some,\n",
      "Nearest to during: in, after, over, from, at, before, for, on,\n",
      "Nearest to however: but, or, and, that, if, have, only, it,\n",
      "Nearest to states: kingdom, nations, the, countries, state, names, life, europe,\n",
      "Nearest to from: in, into, on, by, of, during, through, since,\n",
      "Nearest to war: after, UNK, and, part, three, period, one, he,\n",
      "Nearest to over: during, in, on, but, after, before, up, within,\n"
     ]
    }
   ],
   "source": [
    "total_steps = 100001\n",
    "step = 2000\n",
    "with tf.Session() as sess:\n",
    "    sess.run(tf.global_variables_initializer())\n",
    "    \n",
    "    average_loss = 0\n",
    "    for i in range(total_steps):\n",
    "        batch_data, batch_label = generate_batch(batch_size, num_skips, skip_window)\n",
    "        train_dict = {train_data: batch_data, train_label: batch_label}\n",
    "        _, batch_loss = sess.run([optimizer, loss], feed_dict=train_dict)\n",
    "        average_loss += batch_loss\n",
    "        if (i+1) % step == 0:\n",
    "            print('Loss: {:.4f}'.format(average_loss / step))\n",
    "            average_loss = 0\n",
    "        if (i+1) % 10000 == 0:\n",
    "            sim = similarity.eval()\n",
    "            for i in range(valid_size):\n",
    "                valid_word = reverse_dictionary[valid_examples[i]]\n",
    "                top_k = 8 # number of nearest neighbors\n",
    "                nearest = (-sim[i, :]).argsort()[1:top_k+1]\n",
    "                log = 'Nearest to %s:' % valid_word\n",
    "                for k in range(top_k):\n",
    "                    close_word = reverse_dictionary[nearest[k]]\n",
    "                    log = '%s %s,' % (log, close_word)\n",
    "                print(log)\n",
    "    final_embeddings = normalized_embeddings.eval()"
   ]
  },
  {
   "cell_type": "code",
   "execution_count": null,
   "metadata": {
    "collapsed": true
   },
   "outputs": [],
   "source": []
  }
 ],
 "metadata": {
  "anaconda-cloud": {},
  "colab": {
   "default_view": {},
   "name": "5_word2vec.ipynb",
   "provenance": [],
   "version": "0.3.2",
   "views": {}
  },
  "kernelspec": {
   "display_name": "Python [conda env:mx]",
   "language": "python",
   "name": "conda-env-mx-py"
  },
  "language_info": {
   "codemirror_mode": {
    "name": "ipython",
    "version": 3
   },
   "file_extension": ".py",
   "mimetype": "text/x-python",
   "name": "python",
   "nbconvert_exporter": "python",
   "pygments_lexer": "ipython3",
   "version": "3.6.1"
  }
 },
 "nbformat": 4,
 "nbformat_minor": 0
}
